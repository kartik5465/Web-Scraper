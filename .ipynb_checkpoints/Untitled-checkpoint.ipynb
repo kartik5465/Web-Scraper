{
 "cells": [
  {
   "cell_type": "code",
   "execution_count": 1,
   "id": "2f1a6098",
   "metadata": {},
   "outputs": [],
   "source": [
    "from bs4 import BeautifulSoup\n",
    "import requests \n",
    "import pandas as pd \n",
    "import csv"
   ]
  },
  {
   "cell_type": "code",
   "execution_count": 2,
   "id": "d6fe0a6d",
   "metadata": {},
   "outputs": [],
   "source": [
    "df = pd.read_csv('D:\\\\result1.csv')"
   ]
  },
  {
   "cell_type": "code",
   "execution_count": 3,
   "id": "d638590f",
   "metadata": {
    "collapsed": true
   },
   "outputs": [
    {
     "data": {
      "text/html": [
       "<div>\n",
       "<style scoped>\n",
       "    .dataframe tbody tr th:only-of-type {\n",
       "        vertical-align: middle;\n",
       "    }\n",
       "\n",
       "    .dataframe tbody tr th {\n",
       "        vertical-align: top;\n",
       "    }\n",
       "\n",
       "    .dataframe thead th {\n",
       "        text-align: right;\n",
       "    }\n",
       "</style>\n",
       "<table border=\"1\" class=\"dataframe\">\n",
       "  <thead>\n",
       "    <tr style=\"text-align: right;\">\n",
       "      <th></th>\n",
       "      <th>title</th>\n",
       "      <th>price</th>\n",
       "      <th>url</th>\n",
       "      <th>review</th>\n",
       "      <th>rating</th>\n",
       "    </tr>\n",
       "  </thead>\n",
       "  <tbody>\n",
       "    <tr>\n",
       "      <th>0</th>\n",
       "      <td>MOKOBARA The Transit Backpack Laptop Bag for M...</td>\n",
       "      <td>5999.0</td>\n",
       "      <td>/sspa/click?ie=UTF8&amp;spc=MTo0OTEyMTk0OTA4MjEzNj...</td>\n",
       "      <td>590.0</td>\n",
       "      <td>4.5outof5stars</td>\n",
       "    </tr>\n",
       "    <tr>\n",
       "      <th>1</th>\n",
       "      <td>MOKOBARA Backpack 15.5\" Inch Laptop Backpack F...</td>\n",
       "      <td>4499.0</td>\n",
       "      <td>/sspa/click?ie=UTF8&amp;spc=MTo0OTEyMTk0OTA4MjEzNj...</td>\n",
       "      <td>168.0</td>\n",
       "      <td>4.3outof5stars</td>\n",
       "    </tr>\n",
       "    <tr>\n",
       "      <th>2</th>\n",
       "      <td>Wesley Milestone 2.0 Casual Waterproof Laptop ...</td>\n",
       "      <td>598.0</td>\n",
       "      <td>/Wesley-Milestone-Waterproof-Backpack-Business...</td>\n",
       "      <td>10922.0</td>\n",
       "      <td>4.3outof5stars</td>\n",
       "    </tr>\n",
       "    <tr>\n",
       "      <th>3</th>\n",
       "      <td>American Tourister 32 Ltrs Black Casual Backpa...</td>\n",
       "      <td>1199.0</td>\n",
       "      <td>/American-Tourister-AMT-SCH-02/dp/B07CJCGM1M/r...</td>\n",
       "      <td>54203.0</td>\n",
       "      <td>4.0outof5stars</td>\n",
       "    </tr>\n",
       "    <tr>\n",
       "      <th>4</th>\n",
       "      <td>Skybags Brat Black 46 Cms Casual Backpack</td>\n",
       "      <td>669.0</td>\n",
       "      <td>/Skybags-Brat-Black-Casual-Backpack/dp/B08Z1HH...</td>\n",
       "      <td>4547.0</td>\n",
       "      <td>4.1outof5stars</td>\n",
       "    </tr>\n",
       "    <tr>\n",
       "      <th>...</th>\n",
       "      <td>...</td>\n",
       "      <td>...</td>\n",
       "      <td>...</td>\n",
       "      <td>...</td>\n",
       "      <td>...</td>\n",
       "    </tr>\n",
       "    <tr>\n",
       "      <th>421</th>\n",
       "      <td>Verage Tokyo 56 cms Grey Cabin/Carry-on Trolle...</td>\n",
       "      <td>1899.0</td>\n",
       "      <td>/Verage-Tokyo-Trolley-Suitcase-Spinner/dp/B08H...</td>\n",
       "      <td>2546.0</td>\n",
       "      <td>4.1outof5stars</td>\n",
       "    </tr>\n",
       "    <tr>\n",
       "      <th>422</th>\n",
       "      <td>HEROZ Harbour Unisex Nylon 28 L Travel Laptop ...</td>\n",
       "      <td>841.0</td>\n",
       "      <td>/sspa/click?ie=UTF8&amp;spc=MTo4MjM3NDYyNzQ2NjAzNz...</td>\n",
       "      <td>5918.0</td>\n",
       "      <td>4.1outof5stars</td>\n",
       "    </tr>\n",
       "    <tr>\n",
       "      <th>423</th>\n",
       "      <td>uppercase Sigma Professional Laptop Backpack (...</td>\n",
       "      <td>2100.0</td>\n",
       "      <td>/sspa/click?ie=UTF8&amp;spc=MTo4MjM3NDYyNzQ2NjAzNz...</td>\n",
       "      <td>17.0</td>\n",
       "      <td>4.8outof5stars</td>\n",
       "    </tr>\n",
       "    <tr>\n",
       "      <th>424</th>\n",
       "      <td>Lunar's 45 L Laptop Office/School/Travel/Busin...</td>\n",
       "      <td>899.0</td>\n",
       "      <td>/sspa/click?ie=UTF8&amp;spc=MTo4MjM3NDYyNzQ2NjAzNz...</td>\n",
       "      <td>136.0</td>\n",
       "      <td>3.9outof5stars</td>\n",
       "    </tr>\n",
       "    <tr>\n",
       "      <th>425</th>\n",
       "      <td>Tabelito® Casual Laptop Bag 15.6inch (39.6 cm)...</td>\n",
       "      <td>549.0</td>\n",
       "      <td>/sspa/click?ie=UTF8&amp;spc=MTo4MjM3NDYyNzQ2NjAzNz...</td>\n",
       "      <td>1733.0</td>\n",
       "      <td>4.1outof5stars</td>\n",
       "    </tr>\n",
       "  </tbody>\n",
       "</table>\n",
       "<p>426 rows × 5 columns</p>\n",
       "</div>"
      ],
      "text/plain": [
       "                                                 title   price  \\\n",
       "0    MOKOBARA The Transit Backpack Laptop Bag for M...  5999.0   \n",
       "1    MOKOBARA Backpack 15.5\" Inch Laptop Backpack F...  4499.0   \n",
       "2    Wesley Milestone 2.0 Casual Waterproof Laptop ...   598.0   \n",
       "3    American Tourister 32 Ltrs Black Casual Backpa...  1199.0   \n",
       "4            Skybags Brat Black 46 Cms Casual Backpack   669.0   \n",
       "..                                                 ...     ...   \n",
       "421  Verage Tokyo 56 cms Grey Cabin/Carry-on Trolle...  1899.0   \n",
       "422  HEROZ Harbour Unisex Nylon 28 L Travel Laptop ...   841.0   \n",
       "423  uppercase Sigma Professional Laptop Backpack (...  2100.0   \n",
       "424  Lunar's 45 L Laptop Office/School/Travel/Busin...   899.0   \n",
       "425  Tabelito® Casual Laptop Bag 15.6inch (39.6 cm)...   549.0   \n",
       "\n",
       "                                                   url   review  \\\n",
       "0    /sspa/click?ie=UTF8&spc=MTo0OTEyMTk0OTA4MjEzNj...    590.0   \n",
       "1    /sspa/click?ie=UTF8&spc=MTo0OTEyMTk0OTA4MjEzNj...    168.0   \n",
       "2    /Wesley-Milestone-Waterproof-Backpack-Business...  10922.0   \n",
       "3    /American-Tourister-AMT-SCH-02/dp/B07CJCGM1M/r...  54203.0   \n",
       "4    /Skybags-Brat-Black-Casual-Backpack/dp/B08Z1HH...   4547.0   \n",
       "..                                                 ...      ...   \n",
       "421  /Verage-Tokyo-Trolley-Suitcase-Spinner/dp/B08H...   2546.0   \n",
       "422  /sspa/click?ie=UTF8&spc=MTo4MjM3NDYyNzQ2NjAzNz...   5918.0   \n",
       "423  /sspa/click?ie=UTF8&spc=MTo4MjM3NDYyNzQ2NjAzNz...     17.0   \n",
       "424  /sspa/click?ie=UTF8&spc=MTo4MjM3NDYyNzQ2NjAzNz...    136.0   \n",
       "425  /sspa/click?ie=UTF8&spc=MTo4MjM3NDYyNzQ2NjAzNz...   1733.0   \n",
       "\n",
       "             rating  \n",
       "0    4.5outof5stars  \n",
       "1    4.3outof5stars  \n",
       "2    4.3outof5stars  \n",
       "3    4.0outof5stars  \n",
       "4    4.1outof5stars  \n",
       "..              ...  \n",
       "421  4.1outof5stars  \n",
       "422  4.1outof5stars  \n",
       "423  4.8outof5stars  \n",
       "424  3.9outof5stars  \n",
       "425  4.1outof5stars  \n",
       "\n",
       "[426 rows x 5 columns]"
      ]
     },
     "execution_count": 3,
     "metadata": {},
     "output_type": "execute_result"
    }
   ],
   "source": [
    "df"
   ]
  },
  {
   "cell_type": "code",
   "execution_count": 15,
   "id": "9fc0b76d",
   "metadata": {},
   "outputs": [],
   "source": [
    "a = df.url[1:201]"
   ]
  },
  {
   "cell_type": "code",
   "execution_count": 16,
   "id": "455d54a0",
   "metadata": {
    "collapsed": true
   },
   "outputs": [
    {
     "data": {
      "text/plain": [
       "1      /sspa/click?ie=UTF8&spc=MTo0OTEyMTk0OTA4MjEzNj...\n",
       "2      /Wesley-Milestone-Waterproof-Backpack-Business...\n",
       "3      /American-Tourister-AMT-SCH-02/dp/B07CJCGM1M/r...\n",
       "4      /Skybags-Brat-Black-Casual-Backpack/dp/B08Z1HH...\n",
       "5      /ADISA-Laptop-Backpack-Office-College/dp/B09TP...\n",
       "                             ...                        \n",
       "196    /sspa/click?ie=UTF8&spc=MToxOTI1MjI3MDY4NzQ2OT...\n",
       "197    /sspa/click?ie=UTF8&spc=MToxOTI1MjI3MDY4NzQ2OT...\n",
       "198    /sspa/click?ie=UTF8&spc=MTo4MjgxNDk0MTY1NjYzMT...\n",
       "199    /sspa/click?ie=UTF8&spc=MTo4MjgxNDk0MTY1NjYzMT...\n",
       "200    /ADISA-BP005-Weight-Casual-Backpack/dp/B07D8ZL...\n",
       "Name: url, Length: 200, dtype: object"
      ]
     },
     "execution_count": 16,
     "metadata": {},
     "output_type": "execute_result"
    }
   ],
   "source": [
    "a"
   ]
  },
  {
   "cell_type": "code",
   "execution_count": 4,
   "id": "846aa66b",
   "metadata": {},
   "outputs": [],
   "source": [
    "headers={'user-agent':'Mozilla/5.0 (Windows NT 10.0; Win64; x64) AppleWebKit/537.36 (KHTML, like Gecko) Chrome/98.0.4758.82 Safari/537.36'}\n",
    "urls = requests.get('https://www.amazon.in/Wesley-Milestone-Waterproof-Backpack-Business/dp/B084JGJ8PF/ref=sr_1_3?crid=2M096C61O4MLT&keywords=bags&qid=1685039422&sprefix=ba%2Caps%2C283&sr=8-3',headers=headers).text\n",
    "soup = BeautifulSoup(urls,'lxml')"
   ]
  },
  {
   "cell_type": "code",
   "execution_count": 21,
   "id": "511e390f",
   "metadata": {},
   "outputs": [
    {
     "name": "stdout",
     "output_type": "stream",
     "text": [
      "<table class=\"a-keyvalue prodDetTable\" id=\"productDetails_detailBullets_sections1\" role=\"presentation\"> <tr> <th class=\"a-color-secondary a-size-base prodDetSectionEntry\"> ASIN </th> <td class=\"a-size-base prodDetAttrValue\"> B084JGJ8PF </td> </tr> <tr> <th class=\"a-color-secondary a-size-base prodDetSectionEntry\">Customer Reviews</th> <td class=\"a-size-base\"> <style type=\"text/css\">\n",
      "    /* \n",
      "    * Fix for UDP-1061. Average customer reviews has a small extra line on hover \n",
      "    * https://omni-grok.amazon.com/xref/src/appgroup/websiteTemplates/retail/SoftlinesDetailPageAssets/udp-intl-lock/src/legacy.css?indexName=WebsiteTemplates#40\n",
      "    */\n",
      "    .noUnderline a:hover { \n",
      "        text-decoration: none; \n",
      "    }\n",
      "\n",
      "    .cm-cr-review-stars-spacing-big {\n",
      "        margin-top: 1px;\n",
      "    }\n",
      "</style>\n",
      "<div data-asin=\"B084JGJ8PF\" data-ref=\"dpx_acr_pop_\" id=\"averageCustomerReviews\">\n",
      "<span class=\"a-declarative\" data-acrstarslink-click-metrics=\"{}\" data-action=\"acrStarsLink-click-metrics\" data-csa-c-func-deps=\"aui-da-acrStarsLink-click-metrics\" data-csa-c-type=\"widget\"> <span class=\"reviewCountTextLinkedHistogram noUnderline\" id=\"acrPopover\" title=\"4.3 out of 5 stars\">\n",
      "<span class=\"a-declarative\" data-a-popover='{\"max-width\":\"700\",\"closeButton\":\"false\",\"name\":\"star_ratings_popover\",\"position\":\"triggerBottom\",\"url\":\"/gp/customer-reviews/widgets/average-customer-review/popover/ref=dpx_acr_pop_?contextId=dpx&amp;asin=B084JGJ8PF\"}' data-action=\"a-popover\" data-csa-c-func-deps=\"aui-da-a-popover\" data-csa-c-type=\"widget\"> <a class=\"a-popover-trigger a-declarative\" href=\"javascript:void(0)\" role=\"button\"> <span class=\"a-size-base a-color-base\"> 4.3 </span> <i class=\"a-icon a-icon-star a-star-4-5 cm-cr-review-stars-spacing-big\"><span class=\"a-icon-alt\">4.3 out of 5 stars</span></i> <i class=\"a-icon a-icon-popover\"></i></a> </span> <span class=\"a-letter-space\"></span> </span>\n",
      "</span> <span class=\"a-letter-space\"></span> <span class=\"a-declarative\" data-acrlink-click-metrics=\"{}\" data-action=\"acrLink-click-metrics\" data-csa-c-func-deps=\"aui-da-acrLink-click-metrics\" data-csa-c-type=\"widget\"> <a class=\"a-link-normal\" href=\"#customerReviews\" id=\"acrCustomerReviewLink\"> <span class=\"a-size-base\" id=\"acrCustomerReviewText\">10,922 ratings</span> </a> </span> <script type=\"text/javascript\">\n",
      "                    P.when('A', 'ready').execute(function(A) {\n",
      "                        A.declarative('acrLink-click-metrics', 'click', { \"allowLinkDefault\" : true }, function(event){\n",
      "                            if(window.ue) {\n",
      "                                ue.count(\"acrLinkClickCount\", (ue.count(\"acrLinkClickCount\") || 0) + 1);\n",
      "                            }\n",
      "                        });\n",
      "                    });\n",
      "                </script>\n",
      "<script type=\"text/javascript\">\n",
      "            P.when('A', 'cf').execute(function(A) {\n",
      "                A.declarative('acrStarsLink-click-metrics', 'click', { \"allowLinkDefault\" : true },  function(event){\n",
      "                    if(window.ue) {\n",
      "                        ue.count(\"acrStarsLinkWithPopoverClickCount\", (ue.count(\"acrStarsLinkWithPopoverClickCount\") || 0) + 1);\n",
      "                    }\n",
      "                });\n",
      "            });\n",
      "        </script>\n",
      "</div>\n",
      "<br/> 4.3 out of 5 stars </td> </tr> <tr> <th class=\"a-color-secondary a-size-base prodDetSectionEntry\"> Best Sellers Rank </th> <td> <span> <span>#234 in Electronics (<a href=\"/gp/bestsellers/electronics/ref=pd_zg_ts_electronics\">See Top 100 in Electronics</a>)</span> <br/> <span>#3 in <a href=\"/gp/bestsellers/computers/1375464031/ref=pd_zg_hrsr_computers\">Laptop Backpacks</a></span> <br/> </span> </td> </tr> <tr> <th class=\"a-color-secondary a-size-base prodDetSectionEntry\"> Date First Available </th> <td class=\"a-size-base prodDetAttrValue\"> 15 August 2020 </td> </tr> <tr> <th class=\"a-color-secondary a-size-base prodDetSectionEntry\"> Packer </th> <td class=\"a-size-base prodDetAttrValue\"> Longani Trading Company, F-82, Sector-1, Bawana Industrial Area, Delhi-110039 </td> </tr> <tr> <th class=\"a-color-secondary a-size-base prodDetSectionEntry\"> Item Dimensions LxWxH </th> <td class=\"a-size-base prodDetAttrValue\"> 31.8 x 17.8 x 45.7 Centimeters </td> </tr> <tr> <th class=\"a-color-secondary a-size-base prodDetSectionEntry\"> Net Quantity </th> <td class=\"a-size-base prodDetAttrValue\"> 1 U </td> </tr> <tr> <th class=\"a-color-secondary a-size-base prodDetSectionEntry\"> Generic Name </th> <td class=\"a-size-base prodDetAttrValue\"> Laptop Backpack </td> </tr> </table>\n"
     ]
    }
   ],
   "source": [
    "for container in soup.find_all('table',id='productDetails_detailBullets_sections1',class_='a-keyvalue prodDetTable'):\n",
    "    if container.find('td',class_=\"a-size-base prodDetAttrValue\"):\n",
    "        print(container.find(''))"
   ]
  },
  {
   "cell_type": "code",
   "execution_count": 9,
   "id": "f9eeec43",
   "metadata": {
    "collapsed": true
   },
   "outputs": [
    {
     "data": {
      "text/plain": [
       "<table class=\"a-keyvalue prodDetTable\" id=\"productDetails_detailBullets_sections1\" role=\"presentation\"> <tr> <th class=\"a-color-secondary a-size-base prodDetSectionEntry\"> ASIN </th> <td class=\"a-size-base prodDetAttrValue\"> B084JGJ8PF </td> </tr> <tr> <th class=\"a-color-secondary a-size-base prodDetSectionEntry\">Customer Reviews</th> <td class=\"a-size-base\"> <style type=\"text/css\">\n",
       "    /* \n",
       "    * Fix for UDP-1061. Average customer reviews has a small extra line on hover \n",
       "    * https://omni-grok.amazon.com/xref/src/appgroup/websiteTemplates/retail/SoftlinesDetailPageAssets/udp-intl-lock/src/legacy.css?indexName=WebsiteTemplates#40\n",
       "    */\n",
       "    .noUnderline a:hover { \n",
       "        text-decoration: none; \n",
       "    }\n",
       "\n",
       "    .cm-cr-review-stars-spacing-big {\n",
       "        margin-top: 1px;\n",
       "    }\n",
       "</style>\n",
       "<div data-asin=\"B084JGJ8PF\" data-ref=\"dpx_acr_pop_\" id=\"averageCustomerReviews\">\n",
       "<span class=\"a-declarative\" data-acrstarslink-click-metrics=\"{}\" data-action=\"acrStarsLink-click-metrics\" data-csa-c-func-deps=\"aui-da-acrStarsLink-click-metrics\" data-csa-c-type=\"widget\"> <span class=\"reviewCountTextLinkedHistogram noUnderline\" id=\"acrPopover\" title=\"4.3 out of 5 stars\">\n",
       "<span class=\"a-declarative\" data-a-popover='{\"max-width\":\"700\",\"closeButton\":\"false\",\"name\":\"star_ratings_popover\",\"position\":\"triggerBottom\",\"url\":\"/gp/customer-reviews/widgets/average-customer-review/popover/ref=dpx_acr_pop_?contextId=dpx&amp;asin=B084JGJ8PF\"}' data-action=\"a-popover\" data-csa-c-func-deps=\"aui-da-a-popover\" data-csa-c-type=\"widget\"> <a class=\"a-popover-trigger a-declarative\" href=\"javascript:void(0)\" role=\"button\"> <span class=\"a-size-base a-color-base\"> 4.3 </span> <i class=\"a-icon a-icon-star a-star-4-5 cm-cr-review-stars-spacing-big\"><span class=\"a-icon-alt\">4.3 out of 5 stars</span></i> <i class=\"a-icon a-icon-popover\"></i></a> </span> <span class=\"a-letter-space\"></span> </span>\n",
       "</span> <span class=\"a-letter-space\"></span> <span class=\"a-declarative\" data-acrlink-click-metrics=\"{}\" data-action=\"acrLink-click-metrics\" data-csa-c-func-deps=\"aui-da-acrLink-click-metrics\" data-csa-c-type=\"widget\"> <a class=\"a-link-normal\" href=\"#customerReviews\" id=\"acrCustomerReviewLink\"> <span class=\"a-size-base\" id=\"acrCustomerReviewText\">10,922 ratings</span> </a> </span> <script type=\"text/javascript\">\n",
       "                    P.when('A', 'ready').execute(function(A) {\n",
       "                        A.declarative('acrLink-click-metrics', 'click', { \"allowLinkDefault\" : true }, function(event){\n",
       "                            if(window.ue) {\n",
       "                                ue.count(\"acrLinkClickCount\", (ue.count(\"acrLinkClickCount\") || 0) + 1);\n",
       "                            }\n",
       "                        });\n",
       "                    });\n",
       "                </script>\n",
       "<script type=\"text/javascript\">\n",
       "            P.when('A', 'cf').execute(function(A) {\n",
       "                A.declarative('acrStarsLink-click-metrics', 'click', { \"allowLinkDefault\" : true },  function(event){\n",
       "                    if(window.ue) {\n",
       "                        ue.count(\"acrStarsLinkWithPopoverClickCount\", (ue.count(\"acrStarsLinkWithPopoverClickCount\") || 0) + 1);\n",
       "                    }\n",
       "                });\n",
       "            });\n",
       "        </script>\n",
       "</div>\n",
       "<br/> 4.3 out of 5 stars </td> </tr> <tr> <th class=\"a-color-secondary a-size-base prodDetSectionEntry\"> Best Sellers Rank </th> <td> <span> <span>#234 in Electronics (<a href=\"/gp/bestsellers/electronics/ref=pd_zg_ts_electronics\">See Top 100 in Electronics</a>)</span> <br/> <span>#3 in <a href=\"/gp/bestsellers/computers/1375464031/ref=pd_zg_hrsr_computers\">Laptop Backpacks</a></span> <br/> </span> </td> </tr> <tr> <th class=\"a-color-secondary a-size-base prodDetSectionEntry\"> Date First Available </th> <td class=\"a-size-base prodDetAttrValue\"> 15 August 2020 </td> </tr> <tr> <th class=\"a-color-secondary a-size-base prodDetSectionEntry\"> Packer </th> <td class=\"a-size-base prodDetAttrValue\"> Longani Trading Company, F-82, Sector-1, Bawana Industrial Area, Delhi-110039 </td> </tr> <tr> <th class=\"a-color-secondary a-size-base prodDetSectionEntry\"> Item Dimensions LxWxH </th> <td class=\"a-size-base prodDetAttrValue\"> 31.8 x 17.8 x 45.7 Centimeters </td> </tr> <tr> <th class=\"a-color-secondary a-size-base prodDetSectionEntry\"> Net Quantity </th> <td class=\"a-size-base prodDetAttrValue\"> 1 U </td> </tr> <tr> <th class=\"a-color-secondary a-size-base prodDetSectionEntry\"> Generic Name </th> <td class=\"a-size-base prodDetAttrValue\"> Laptop Backpack </td> </tr> </table>"
      ]
     },
     "execution_count": 9,
     "metadata": {},
     "output_type": "execute_result"
    }
   ],
   "source": [
    "a"
   ]
  },
  {
   "cell_type": "code",
   "execution_count": 11,
   "id": "1628d0f2",
   "metadata": {},
   "outputs": [
    {
     "ename": "SyntaxError",
     "evalue": "invalid syntax (1331281717.py, line 1)",
     "output_type": "error",
     "traceback": [
      "\u001b[1;36m  Input \u001b[1;32mIn [11]\u001b[1;36m\u001b[0m\n\u001b[1;33m    b = a.(soup.find('td',class_=\"a-size-base prodDetAttrValue\"))\u001b[0m\n\u001b[1;37m          ^\u001b[0m\n\u001b[1;31mSyntaxError\u001b[0m\u001b[1;31m:\u001b[0m invalid syntax\n"
     ]
    }
   ],
   "source": [
    "b = a.soup.find('td',class_=\"a-size-base prodDetAttrValue\")"
   ]
  },
  {
   "cell_type": "code",
   "execution_count": 7,
   "id": "12a8d202",
   "metadata": {},
   "outputs": [
    {
     "data": {
      "text/plain": [
       "<td class=\"a-size-base prodDetAttrValue\">\n",
       "                ‎Wesley </td>"
      ]
     },
     "execution_count": 7,
     "metadata": {},
     "output_type": "execute_result"
    }
   ],
   "source": []
  },
  {
   "cell_type": "code",
   "execution_count": null,
   "id": "88c230fa",
   "metadata": {},
   "outputs": [],
   "source": [
    "results = pd.DataFrame\n",
    "for url in a:\n",
    "    headers={'user-agent':'Mozilla/5.0 (Windows NT 10.0; Win64; x64) AppleWebKit/537.36 (KHTML, like Gecko) Chrome/98.0.4758.82 Safari/537.36'}\n",
    "    soup = BeautifulSoup(html,'lxml')\n",
    "    urls = requests.get(url)\n",
    "    \n",
    "    "
   ]
  }
 ],
 "metadata": {
  "kernelspec": {
   "display_name": "Python 3 (ipykernel)",
   "language": "python",
   "name": "python3"
  },
  "language_info": {
   "codemirror_mode": {
    "name": "ipython",
    "version": 3
   },
   "file_extension": ".py",
   "mimetype": "text/x-python",
   "name": "python",
   "nbconvert_exporter": "python",
   "pygments_lexer": "ipython3",
   "version": "3.10.6"
  }
 },
 "nbformat": 4,
 "nbformat_minor": 5
}
